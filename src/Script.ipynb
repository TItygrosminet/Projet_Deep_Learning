{
 "cells": [
  {
   "attachments": {},
   "cell_type": "markdown",
   "metadata": {
    "id": "z3mdNJJXc6Wy"
   },
   "source": [
    "# Chargement des données\n",
    "\n",
    "Dans mon projet, j'ai choisi de classifier des images associées à 5 labels différents : **vintage**, **classique**, **gothique**, **streetwear** et **chic**.\n",
    "\n",
    "J'ai réparti mes images dans 3 ensembles (et donc 3 dossiers): *train*, *validation* et *test*. Chacun de ces dossiers comporte un sous-dossier par classe, qui contient les images correspondantes. L'arborescence est résumée sur l'image ci-dessus.\n",
    "\n",
    "J'ai choisi d'héberger ma base de données sur Github : l'intérêt est qu'un **git clone** depuis Google Colab est très rapide, ce qui vous garantit une certaine simplicité. Je vous encourage à en faire de même."
   ]
  },
  {
   "cell_type": "code",
   "execution_count": 1,
   "metadata": {
    "id": "n_OkpjrpFXXG"
   },
   "outputs": [
    {
     "name": "stdout",
     "output_type": "stream",
     "text": [
      "fatal: le chemin de destination 'Projet_Deep_Learning' existe déjà et n'est pas un répertoire vide.\n"
     ]
    }
   ],
   "source": [
    "!git clone https://github.com/TItygrosminet/Projet_Deep_Learning.git\n",
    "path = \"./Projet_Deep_Learning/src/donnees/\""
   ]
  },
  {
   "cell_type": "markdown",
   "metadata": {},
   "source": [
    "Une fois les données téléchargées localement, on peut maintenant charger les images et les labels. Si vous avez construit votre arborescence de la même manière que la mienne, et que vous adaptez les noms de labels à votre projet, alors le code suivant devrait être utilisable directement."
   ]
  },
  {
   "cell_type": "code",
   "execution_count": 6,
   "metadata": {},
   "outputs": [],
   "source": [
    "import os\n",
    "import shutil\n",
    "\n",
    "import numpy as np\n",
    "import PIL\n",
    "from PIL import Image\n",
    "import os, sys\n",
    "from scipy.io import loadmat\n",
    "\n",
    "\n",
    "def load_data(data_path, classes, dataset='train', image_size=64):\n",
    "\n",
    "    num_images = 0\n",
    "    for i in range(len(classes)):\n",
    "        dirs = sorted(os.listdir(data_path + dataset + '/' + classes[i]))\n",
    "        num_images += len(dirs)\n",
    "                                \n",
    "    x = np.zeros((num_images, image_size, image_size, 3))\n",
    "    y = np.zeros((num_images, 1))\n",
    "    \n",
    "    current_index = 0\n",
    "    \n",
    "    # Parcours des différents répertoires pour collecter les images\n",
    "    for idx_class in range(len(classes)):\n",
    "        dirs = sorted(os.listdir(data_path + dataset + '/' + classes[idx_class]))\n",
    "        num_images += len(dirs)\n",
    "    \n",
    "        # Chargement des images, \n",
    "        for idx_img in range(len(dirs)):\n",
    "            item = dirs[idx_img]\n",
    "            if os.path.isfile(data_path + dataset + '/' + classes[idx_class] + '/' + item):\n",
    "                # Ouverture de l'image\n",
    "                img = Image.open(data_path + dataset + '/' + classes[idx_class] + '/' + item)\n",
    "                # Conversion de l'image en RGB\n",
    "                img = img.convert('RGB')\n",
    "                # Redimensionnement de l'image et écriture dans la variable de retour x \n",
    "                img = img.resize((image_size,image_size))\n",
    "                x[current_index] = np.asarray(img)\n",
    "                # Écriture du label associé dans la variable de retour y\n",
    "                y[current_index] = idx_class\n",
    "                current_index += 1\n",
    "                \n",
    "    return x, y"
   ]
  },
  {
   "cell_type": "markdown",
   "metadata": {},
   "source": [
    "Voici ensuite un exemple de chargement de vos données. Notez que vous pouvez modifier la dimension des images, ce qui sera utile à différents stades de votre projet."
   ]
  },
  {
   "cell_type": "code",
   "execution_count": 7,
   "metadata": {},
   "outputs": [
    {
     "ename": "FileNotFoundError",
     "evalue": "[Errno 2] No such file or directory: './src/donnees/train/vintage'",
     "output_type": "error",
     "traceback": [
      "\u001b[0;31m---------------------------------------------------------------------------\u001b[0m",
      "\u001b[0;31mFileNotFoundError\u001b[0m                         Traceback (most recent call last)",
      "Cell \u001b[0;32mIn[7], line 3\u001b[0m\n\u001b[1;32m      1\u001b[0m labels \u001b[39m=\u001b[39m [\u001b[39m'\u001b[39m\u001b[39mvintage\u001b[39m\u001b[39m'\u001b[39m, \u001b[39m'\u001b[39m\u001b[39mclassique\u001b[39m\u001b[39m'\u001b[39m, \u001b[39m'\u001b[39m\u001b[39mgothique\u001b[39m\u001b[39m'\u001b[39m, \u001b[39m'\u001b[39m\u001b[39mstreetwear\u001b[39m\u001b[39m'\u001b[39m, \u001b[39m'\u001b[39m\u001b[39mchic\u001b[39m\u001b[39m'\u001b[39m]\n\u001b[0;32m----> 3\u001b[0m x_train, y_train \u001b[39m=\u001b[39m load_data(path, labels, dataset\u001b[39m=\u001b[39;49m\u001b[39m'\u001b[39;49m\u001b[39mtrain\u001b[39;49m\u001b[39m'\u001b[39;49m, image_size\u001b[39m=\u001b[39;49m\u001b[39m64\u001b[39;49m)\n\u001b[1;32m      4\u001b[0m \u001b[39mprint\u001b[39m(x_train\u001b[39m.\u001b[39mshape, y_train\u001b[39m.\u001b[39mshape)\n\u001b[1;32m      6\u001b[0m x_val, y_val \u001b[39m=\u001b[39m load_data(path, labels, dataset\u001b[39m=\u001b[39m\u001b[39m'\u001b[39m\u001b[39mvalidation\u001b[39m\u001b[39m'\u001b[39m, image_size\u001b[39m=\u001b[39m\u001b[39m64\u001b[39m)\n",
      "Cell \u001b[0;32mIn[6], line 15\u001b[0m, in \u001b[0;36mload_data\u001b[0;34m(data_path, classes, dataset, image_size)\u001b[0m\n\u001b[1;32m     13\u001b[0m num_images \u001b[39m=\u001b[39m \u001b[39m0\u001b[39m\n\u001b[1;32m     14\u001b[0m \u001b[39mfor\u001b[39;00m i \u001b[39min\u001b[39;00m \u001b[39mrange\u001b[39m(\u001b[39mlen\u001b[39m(classes)):\n\u001b[0;32m---> 15\u001b[0m     dirs \u001b[39m=\u001b[39m \u001b[39msorted\u001b[39m(os\u001b[39m.\u001b[39;49mlistdir(data_path \u001b[39m+\u001b[39;49m dataset \u001b[39m+\u001b[39;49m \u001b[39m'\u001b[39;49m\u001b[39m/\u001b[39;49m\u001b[39m'\u001b[39;49m \u001b[39m+\u001b[39;49m classes[i]))\n\u001b[1;32m     16\u001b[0m     num_images \u001b[39m+\u001b[39m\u001b[39m=\u001b[39m \u001b[39mlen\u001b[39m(dirs)\n\u001b[1;32m     18\u001b[0m x \u001b[39m=\u001b[39m np\u001b[39m.\u001b[39mzeros((num_images, image_size, image_size, \u001b[39m3\u001b[39m))\n",
      "\u001b[0;31mFileNotFoundError\u001b[0m: [Errno 2] No such file or directory: './src/donnees/train/vintage'"
     ]
    }
   ],
   "source": [
    "labels = ['vintage', 'classique', 'gothique', 'streetwear', 'chic']\n",
    "\n",
    "x_train, y_train = load_data(path, labels, dataset='train', image_size=64)\n",
    "print(x_train.shape, y_train.shape)\n",
    "\n",
    "x_val, y_val = load_data(path, labels, dataset='validation', image_size=64)\n",
    "print(x_val.shape, y_val.shape)\n",
    "\n",
    "x_test, y_test = load_data(path, labels, dataset='test', image_size=64)\n",
    "print(x_test.shape, y_test.shape)"
   ]
  },
  {
   "cell_type": "markdown",
   "metadata": {},
   "source": [
    "Vous pouvez utiliser le bloc suivant pour afficher quelques-unes de vos images, et ainsi vérifier que tout s'est bien passé."
   ]
  },
  {
   "cell_type": "code",
   "execution_count": null,
   "metadata": {},
   "outputs": [],
   "source": [
    "import matplotlib.pyplot as plt\n",
    "\n",
    "plt.figure(figsize=(12, 12))\n",
    "shuffle_indices = np.random.permutation(9)\n",
    "for i in range(0, 9):\n",
    "    plt.subplot(3, 3, i+1)\n",
    "    image = x_train[shuffle_indices[i]]\n",
    "    plt.title(labels[int(y_train[shuffle_indices[i]])])\n",
    "    plt.imshow(image/255)\n",
    "\n",
    "plt.tight_layout()\n",
    "plt.show()"
   ]
  }
 ],
 "metadata": {
  "accelerator": "GPU",
  "colab": {
   "collapsed_sections": [],
   "machine_shape": "hm",
   "name": "IAM2020 - TP3 - Classification de chiens et chats.ipynb",
   "provenance": [],
   "toc_visible": true
  },
  "kernelspec": {
   "display_name": "Python 3",
   "language": "python",
   "name": "python3"
  },
  "language_info": {
   "codemirror_mode": {
    "name": "ipython",
    "version": 3
   },
   "file_extension": ".py",
   "mimetype": "text/x-python",
   "name": "python",
   "nbconvert_exporter": "python",
   "pygments_lexer": "ipython3",
   "version": "3.11.1"
  }
 },
 "nbformat": 4,
 "nbformat_minor": 1
}
